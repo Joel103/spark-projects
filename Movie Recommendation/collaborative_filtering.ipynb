{
 "cells": [
  {
   "cell_type": "code",
   "execution_count": 1,
   "metadata": {
    "id": "placed-radical"
   },
   "outputs": [],
   "source": [
    "import os\n",
    "from pyspark import SparkContext\n",
    "from pyspark.sql import SparkSession, Row\n",
    "from pyspark.ml.evaluation import RegressionEvaluator\n",
    "from pyspark.ml.recommendation import ALS\n"
   ]
  },
  {
   "cell_type": "code",
   "execution_count": 2,
   "metadata": {
    "id": "reflected-liquid"
   },
   "outputs": [],
   "source": [
    "# initialize SparkSession\n",
    "sc=SparkContext()\n",
    "spark=SparkSession(sc)"
   ]
  },
  {
   "cell_type": "code",
   "execution_count": 3,
   "metadata": {
    "id": "current-lesson"
   },
   "outputs": [],
   "source": [
    "# Create DataFrames\n",
    "path = os.getcwd()\n",
    "df_M = spark.read.format(\"csv\").load(path + \"/data/movies.csv\")\n",
    "df_R = spark.read.format(\"csv\").load(path + \"/data/ratings.csv\")"
   ]
  },
  {
   "cell_type": "code",
   "execution_count": 4,
   "metadata": {
    "id": "cellular-updating"
   },
   "outputs": [],
   "source": [
    "#rename columns\n",
    "df2= df_R.withColumnRenamed(\"_c0\", \"userId\").withColumnRenamed(\"_c1\", \"movieId\").withColumnRenamed(\"_c2\", \"rating\").withColumnRenamed(\"_c3\",\"timestamp\")\n",
    "df1= df_M.withColumnRenamed(\"_c0\", \"movieId\").withColumnRenamed(\"_c1\", \"title\").withColumnRenamed(\"_c2\", \"genre\")\n",
    "\n",
    "# Join DataFrames\n",
    "df1=df1.join(df2,on=\"movieId\")\n",
    "\n",
    "# Create Train/Test split\n",
    "split = df1.randomSplit([0.8,0.2],seed=1)\n",
    "train = split[0]\n",
    "test = split[1]\n",
    "\n",
    "# casting\n",
    "train=train.withColumn(\"userId\", train[\"userId\"].cast(\"int\"))\\\n",
    "           .withColumn(\"movieId\", train[\"movieId\"].cast(\"int\"))\\\n",
    "           .withColumn(\"rating\", train[\"rating\"].cast(\"float\"))\n",
    "\n",
    "test=test.withColumn(\"userId\", test[\"userId\"].cast(\"int\"))\\\n",
    "         .withColumn(\"movieId\", test[\"movieId\"].cast(\"int\"))\\\n",
    "         .withColumn(\"rating\", test[\"rating\"].cast(\"float\"))\n",
    "\n",
    "# remove columns where movieId, userId, or rating is null\n",
    "train=train.filter(train.movieId.isNotNull())\n",
    "train=train.filter(train.userId.isNotNull())\n",
    "train=train.filter(train.rating.isNotNull())\n",
    "test=test.filter(test.movieId.isNotNull())\n",
    "test=test.filter(test.userId.isNotNull())\n",
    "test=test.filter(test.rating.isNotNull())\n",
    "\n"
   ]
  },
  {
   "cell_type": "code",
   "execution_count": 5,
   "metadata": {
    "id": "potential-remedy",
    "outputId": "d82b98a3-dd84-4220-f106-9a206305c286",
    "scrolled": true
   },
   "outputs": [
    {
     "name": "stdout",
     "output_type": "stream",
     "text": [
      "3.43 s ± 578 ms per loop (mean ± std. dev. of 7 runs, 1 loop each)\n"
     ]
    }
   ],
   "source": [
    "%%timeit\n",
    "#time the duration for fitting the model\n",
    "\n",
    "# Alternating Least Squares matrix factorization.\n",
    "als=ALS(userCol=\"userId\", itemCol=\"movieId\", ratingCol=\"rating\", coldStartStrategy= \"drop\")\n",
    "\n",
    "# we fit our model\n",
    "model=als.fit(train)\n",
    "\n"
   ]
  },
  {
   "cell_type": "code",
   "execution_count": 6,
   "metadata": {
    "id": "potential-remedy",
    "outputId": "d82b98a3-dd84-4220-f106-9a206305c286",
    "scrolled": true
   },
   "outputs": [],
   "source": [
    "# Now actually fit the model\n",
    "\n",
    "# Alternating Least Squares matrix factorization.\n",
    "als=ALS(userCol=\"userId\", itemCol=\"movieId\", ratingCol=\"rating\", coldStartStrategy= \"drop\")\n",
    "\n",
    "# we fit our model\n",
    "model=als.fit(train)\n",
    "\n"
   ]
  },
  {
   "cell_type": "code",
   "execution_count": 7,
   "metadata": {
    "id": "allied-horror",
    "outputId": "ad4bfd24-58e1-48da-fe3f-8ff3646dd42c"
   },
   "outputs": [
    {
     "name": "stdout",
     "output_type": "stream",
     "text": [
      "23.9 ms ± 4.19 ms per loop (mean ± std. dev. of 7 runs, 10 loops each)\n"
     ]
    }
   ],
   "source": [
    "%%timeit\n",
    "#time the duration for predicting ratings\n",
    "\n",
    "#predict the ratings for the respective pairs of movieId and userId included in the test set\n",
    "predictions = model.transform(test)\n",
    "\n",
    "\n"
   ]
  },
  {
   "cell_type": "code",
   "execution_count": 8,
   "metadata": {
    "id": "handy-panama"
   },
   "outputs": [],
   "source": [
    "# Now actually predict the ratings for the respective pairs of movieId and userId included in the test set\n",
    "predictions = model.transform(test)"
   ]
  },
  {
   "cell_type": "code",
   "execution_count": 9,
   "metadata": {
    "id": "unexpected-pharmaceutical",
    "outputId": "85472044-d7d9-43b6-9f36-4976e6478b03"
   },
   "outputs": [
    {
     "name": "stdout",
     "output_type": "stream",
     "text": [
      "Root-mean-square error = 0.8835261286521537\n"
     ]
    }
   ],
   "source": [
    "# compute the error of our predictions\n",
    "evaluator = RegressionEvaluator(metricName=\"rmse\", labelCol=\"rating\",predictionCol=\"prediction\")\n",
    "rmse = evaluator.evaluate(predictions)\n",
    "print(\"Root-mean-square error = \" + str(rmse))"
   ]
  },
  {
   "cell_type": "code",
   "execution_count": 10,
   "metadata": {
    "id": "forty-layout"
   },
   "outputs": [],
   "source": [
    "# Generate top movie recommendation for each user\n",
    "userRecs = model.recommendForAllUsers(1)"
   ]
  },
  {
   "cell_type": "code",
   "execution_count": null,
   "metadata": {},
   "outputs": [],
   "source": []
  }
 ],
 "metadata": {
  "colab": {
   "name": "Untitled14.ipynb",
   "provenance": []
  },
  "kernelspec": {
   "display_name": "Python 3",
   "language": "python",
   "name": "python3"
  },
  "language_info": {
   "codemirror_mode": {
    "name": "ipython",
    "version": 3
   },
   "file_extension": ".py",
   "mimetype": "text/x-python",
   "name": "python",
   "nbconvert_exporter": "python",
   "pygments_lexer": "ipython3",
   "version": "3.8.5"
  }
 },
 "nbformat": 4,
 "nbformat_minor": 4
}
